{
 "cells": [
  {
   "cell_type": "code",
   "execution_count": 1,
   "metadata": {},
   "outputs": [],
   "source": [
    "%matplotlib inline"
   ]
  },
  {
   "cell_type": "code",
   "execution_count": 2,
   "metadata": {},
   "outputs": [],
   "source": [
    "import sys\n",
    "sys.path.append('code')"
   ]
  },
  {
   "cell_type": "code",
   "execution_count": 3,
   "metadata": {},
   "outputs": [],
   "source": [
    "import torch\n",
    "import torch.nn.functional as F\n",
    "import numpy as np\n",
    "import os\n",
    "import pickle\n",
    "import argparse\n",
    "import copy\n",
    "import json\n",
    "from model.model_utils import ModeKeys\n",
    "from model.model_registrar import ModelRegistrar\n",
    "from model.dyn_stg import SpatioTemporalGraphCVAEModel"
   ]
  },
  {
   "cell_type": "code",
   "execution_count": 4,
   "metadata": {},
   "outputs": [],
   "source": [
    "def load_model(model_dir, example_scene, ts=1999, ume=False):\n",
    "    model_registrar = ModelRegistrar(model_dir, 'cpu')\n",
    "    model_registrar.load_models(ts)\n",
    "    with open(os.path.join(model_dir, 'config.json'), 'r') as config_json:\n",
    "        hyperparams = json.load(config_json)\n",
    "    hyperparams['minimum_history_length'] = 8\n",
    "    hyperparams['maximum_history_length'] = 8\n",
    "    \n",
    "    stg = SpatioTemporalGraphCVAEModel(None, model_registrar,\n",
    "                                                hyperparams,\n",
    "                                                None, 'cpu')\n",
    "\n",
    "\n",
    "    stg.set_scene_graph(example_scene)\n",
    "\n",
    "    stg.set_annealing_params()\n",
    "    \n",
    "    return stg, hyperparams"
   ]
  },
  {
   "cell_type": "code",
   "execution_count": 5,
   "metadata": {},
   "outputs": [],
   "source": [
    "def load_data(data_dir, data_dict_name):\n",
    "    eval_data_path = os.path.join(data_dir, data_dict_name)\n",
    "    with open(eval_data_path, 'rb') as f:\n",
    "        scenes = pickle.load(f, encoding='latin1')\n",
    "    return scenes"
   ]
  },
  {
   "cell_type": "code",
   "execution_count": 6,
   "metadata": {},
   "outputs": [],
   "source": [
    "torch.manual_seed(0)\n",
    "torch.backends.cudnn.deterministic = True\n",
    "torch.backends.cudnn.benchmark = False\n",
    "np.random.seed(0)"
   ]
  },
  {
   "cell_type": "markdown",
   "metadata": {},
   "source": [
    "# Load Model"
   ]
  },
  {
   "cell_type": "code",
   "execution_count": 7,
   "metadata": {},
   "outputs": [],
   "source": [
    "output = dict()\n",
    "state = ['position', 'velocity', 'acceleration']\n",
    "dims = ['x', 'y']"
   ]
  },
  {
   "cell_type": "code",
   "execution_count": 8,
   "metadata": {},
   "outputs": [],
   "source": [
    "dataset_name = 'eth_univ'\n",
    "data_dir = 'data/%s' % dataset_name\n",
    "eval_data_dict_name = '%s_n_test.pkl' % dataset_name\n",
    "train_data_dict_name = '%s_train.pkl' % dataset_name\n",
    "log_dir = '.'\n",
    "model_dir = '.'"
   ]
  },
  {
   "cell_type": "code",
   "execution_count": 1,
   "metadata": {
    "scrolled": false
   },
   "outputs": [
    {
     "ename": "NameError",
     "evalue": "name 'load_data' is not defined",
     "output_type": "error",
     "traceback": [
      "\u001b[0;31m---------------------------------------------------------------------------\u001b[0m",
      "\u001b[0;31mNameError\u001b[0m                                 Traceback (most recent call last)",
      "\u001b[0;32m<ipython-input-1-9dd1fa064e44>\u001b[0m in \u001b[0;36m<module>\u001b[0;34m\u001b[0m\n\u001b[0;32m----> 1\u001b[0;31m \u001b[0meval_scenes\u001b[0m \u001b[0;34m=\u001b[0m \u001b[0mload_data\u001b[0m\u001b[0;34m(\u001b[0m\u001b[0mdata_dir\u001b[0m\u001b[0;34m,\u001b[0m \u001b[0meval_data_dict_name\u001b[0m\u001b[0;34m)\u001b[0m\u001b[0;34m\u001b[0m\u001b[0m\n\u001b[0m\u001b[1;32m      2\u001b[0m \u001b[0meval_stg\u001b[0m\u001b[0;34m,\u001b[0m \u001b[0mhyperparams\u001b[0m \u001b[0;34m=\u001b[0m \u001b[0mload_model\u001b[0m\u001b[0;34m(\u001b[0m\u001b[0mmodel_dir\u001b[0m\u001b[0;34m,\u001b[0m \u001b[0meval_scenes\u001b[0m\u001b[0;34m[\u001b[0m\u001b[0;36m0\u001b[0m\u001b[0;34m]\u001b[0m\u001b[0;34m,\u001b[0m \u001b[0mts\u001b[0m\u001b[0;34m=\u001b[0m\u001b[0;36m599\u001b[0m\u001b[0;34m,\u001b[0m \u001b[0mume\u001b[0m\u001b[0;34m=\u001b[0m\u001b[0;32mFalse\u001b[0m\u001b[0;34m)\u001b[0m\u001b[0;34m\u001b[0m\u001b[0m\n",
      "\u001b[0;31mNameError\u001b[0m: name 'load_data' is not defined"
     ]
    }
   ],
   "source": [
    "eval_scenes = load_data(data_dir, eval_data_dict_name)\n",
    "eval_stg, hyperparams = load_model(model_dir, eval_scenes[0], ts=599, ume=False)"
   ]
  },
  {
   "cell_type": "code",
   "execution_count": 10,
   "metadata": {},
   "outputs": [],
   "source": [
    "cvae = list(eval_stg.node_models_dict.values())[0] # Only one edge type"
   ]
  },
  {
   "cell_type": "markdown",
   "metadata": {},
   "source": [
    "## p_z_x weights"
   ]
  },
  {
   "cell_type": "code",
   "execution_count": 11,
   "metadata": {},
   "outputs": [
    {
     "data": {
      "text/plain": [
       "(32, 10)"
      ]
     },
     "execution_count": 11,
     "metadata": {},
     "output_type": "execute_result"
    }
   ],
   "source": [
    "output['weight'] = (cvae.node_modules[cvae.node_type + '/hx_to_z'].weight.data.cpu().numpy().T)\n",
    "output['weight'].shape"
   ]
  },
  {
   "cell_type": "code",
   "execution_count": 12,
   "metadata": {},
   "outputs": [
    {
     "data": {
      "text/plain": [
       "(10,)"
      ]
     },
     "execution_count": 12,
     "metadata": {},
     "output_type": "execute_result"
    }
   ],
   "source": [
    "output['bias'] = (cvae.node_modules[cvae.node_type + '/hx_to_z'].bias.data.cpu().numpy().T)\n",
    "output['bias'].shape"
   ]
  },
  {
   "cell_type": "code",
   "execution_count": 11,
   "metadata": {},
   "outputs": [],
   "source": [
    "scene = eval_scenes[0]\n",
    "batch_size = 50\n",
    "timesteps = scene.sample_timesteps(batch_size)"
   ]
  },
  {
   "cell_type": "code",
   "execution_count": 11,
   "metadata": {},
   "outputs": [
    {
     "ename": "NameError",
     "evalue": "name 'scene' is not defined",
     "output_type": "error",
     "traceback": [
      "\u001b[0;31m---------------------------------------------------------------------------\u001b[0m",
      "\u001b[0;31mNameError\u001b[0m                                 Traceback (most recent call last)",
      "\u001b[0;32m<ipython-input-11-171712f8a2b8>\u001b[0m in \u001b[0;36m<module>\u001b[0;34m\u001b[0m\n\u001b[0;32m----> 1\u001b[0;31m \u001b[0mpredictions\u001b[0m \u001b[0;34m=\u001b[0m \u001b[0meval_stg\u001b[0m\u001b[0;34m.\u001b[0m\u001b[0mpredict\u001b[0m\u001b[0;34m(\u001b[0m\u001b[0mscene\u001b[0m\u001b[0;34m,\u001b[0m \u001b[0mtimesteps\u001b[0m\u001b[0;34m,\u001b[0m \u001b[0;36m12\u001b[0m\u001b[0;34m,\u001b[0m \u001b[0mnum_samples\u001b[0m\u001b[0;34m=\u001b[0m\u001b[0;36m0\u001b[0m\u001b[0;34m,\u001b[0m \u001b[0mmin_future_timesteps\u001b[0m\u001b[0;34m=\u001b[0m\u001b[0;36m0\u001b[0m\u001b[0;34m)\u001b[0m\u001b[0;34m\u001b[0m\u001b[0;34m\u001b[0m\u001b[0m\n\u001b[0m",
      "\u001b[0;31mNameError\u001b[0m: name 'scene' is not defined"
     ]
    }
   ],
   "source": [
    "predictions = eval_stg.predict(scene, timesteps, 12, num_samples=0, min_future_timesteps=0)"
   ]
  },
  {
   "cell_type": "code",
   "execution_count": null,
   "metadata": {},
   "outputs": [],
   "source": [
    "output['features'] = cvae.dst_features\n",
    "output['features'].shape"
   ]
  },
  {
   "cell_type": "code",
   "execution_count": 16,
   "metadata": {},
   "outputs": [
    {
     "data": {
      "text/plain": [
       "203"
      ]
     },
     "execution_count": 16,
     "metadata": {},
     "output_type": "execute_result"
    }
   ],
   "source": [
    "(inputs, \n",
    " first_history_indices, \n",
    " timesteps_in_scene, \n",
    " node_scene_graph_batched, \n",
    " nodes) = eval_stg.get_input(scene, timesteps, None, 0)\n",
    "c = list()\n",
    "for i, input in enumerate(inputs):\n",
    "    _, scene_graph = node_scene_graph_batched[i]\n",
    "    neighbors_via_edge_type = scene_graph.neigbors_via_edge_type[nodes[i]]\n",
    "    if not neighbors_via_edge_type:\n",
    "        c.append((input, []))\n",
    "        continue\n",
    "    neighbors = list(neighbors_via_edge_type.values())[0] # Only one edge type\n",
    "    neighbor_state_list = list()\n",
    "    for neighbor in neighbors:\n",
    "        neighbor_state = neighbor.get(np.array([timesteps_in_scene[i] - 8, timesteps_in_scene[i]]),\n",
    "                                             state, dims,\n",
    "                                             padding=0.0)\n",
    "        neighbor_state_list.append(neighbor_state)\n",
    "    c.append((input, neighbor_state_list))\n",
    "    \n",
    "output['c'] = c\n",
    "len(output['c'])"
   ]
  },
  {
   "cell_type": "code",
   "execution_count": 17,
   "metadata": {},
   "outputs": [
    {
     "name": "stdout",
     "output_type": "stream",
     "text": [
      "203\n",
      "(25, 12, 2)\n",
      "203\n",
      "(2, 2)\n"
     ]
    }
   ],
   "source": [
    "from utils import prediction_output_to_trajectories\n",
    "output_dict, histories_dict, futures_dict = prediction_output_to_trajectories(predictions, \n",
    "                                                                              dt=0.4, \n",
    "                                                                              max_h=8, \n",
    "                                                                              ph=12)\n",
    "output_list = list()\n",
    "for outputs_t in output_dict.values():\n",
    "    for outputs_by_node in outputs_t.values():\n",
    "        output_list.append(outputs_by_node)\n",
    "        \n",
    "future_list = list()\n",
    "for futures_t in futures_dict.values():\n",
    "    for futures_by_node in futures_t.values():\n",
    "        future_list.append(futures_by_node)\n",
    "        \n",
    "output['x'] = output_list\n",
    "print(len(output_list))\n",
    "print(output_list[0].shape)\n",
    "\n",
    "output['gt'] = future_list\n",
    "print(len(future_list))\n",
    "print(future_list[0].shape)"
   ]
  },
  {
   "cell_type": "code",
   "execution_count": 18,
   "metadata": {},
   "outputs": [
    {
     "data": {
      "text/plain": [
       "(203, 2, 5)"
      ]
     },
     "execution_count": 18,
     "metadata": {},
     "output_type": "execute_result"
    }
   ],
   "source": [
    "output['alpha_p'] = cvae.latent.p_dist.probs.detach().numpy()\n",
    "output['alpha_p'].shape"
   ]
  },
  {
   "cell_type": "code",
   "execution_count": 19,
   "metadata": {},
   "outputs": [
    {
     "data": {
      "text/plain": [
       "(25, 203, 10)"
      ]
     },
     "execution_count": 19,
     "metadata": {},
     "output_type": "execute_result"
    }
   ],
   "source": [
    "output['z_one_hot'] = np.expand_dims(cvae.latent.all_one_hot_combinations(cvae.latent.N, cvae.latent.K), 1).repeat(203, 1)\n",
    "output['z_one_hot'].shape"
   ]
  },
  {
   "cell_type": "code",
   "execution_count": 20,
   "metadata": {},
   "outputs": [],
   "source": [
    "with open('./dst_test_nominf.pkl', 'wb') as f:\n",
    "    pickle.dump(output, f, protocol=pickle.HIGHEST_PROTOCOL)"
   ]
  },
  {
   "cell_type": "code",
   "execution_count": 20,
   "metadata": {},
   "outputs": [
    {
     "name": "stdout",
     "output_type": "stream",
     "text": [
      "weight:\t\t array with shape: (32, 10)\n",
      "bias:\t\t array with shape: (10,)\n",
      "features:\t array with shape: torch.Size([203, 32])\n",
      "c:\t\t list with len: 203 of tuples (node_traj, [neighbor_traj]) each shape (9, 6)\n",
      "x:\t\t list with len: 203 each of shape: (25, 12, 2)\n",
      "gt:\t\t list with len: 203 each of variable first-dim shape: (12, 2)\n",
      "alpha_p:\t array with shape: (203, 2, 5)\n",
      "z_one_hot:\t array with shape: (25, 203, 10)\n"
     ]
    }
   ],
   "source": [
    "print(f\"weight:\\t\\t array with shape: {output['weight'].shape}\")\n",
    "print(f\"bias:\\t\\t array with shape: {output['bias'].shape}\")\n",
    "print(f\"features:\\t array with shape: {output['features'].shape}\")\n",
    "print(f\"c:\\t\\t list with len: {len(output['c'])} of tuples (node_traj, [neighbor_traj]) each shape {output['c'][0][0].shape}\")\n",
    "print(f\"x:\\t\\t list with len: {len(output['x'])} each of shape: {output['x'][0].shape}\")\n",
    "print(f\"gt:\\t\\t list with len: {len(output['gt'])} each of variable first-dim shape: {output['gt'][1].shape}\")\n",
    "print(f\"alpha_p:\\t array with shape: {output['alpha_p'].shape}\")\n",
    "print(f\"z_one_hot:\\t array with shape: {output['z_one_hot'].shape}\")"
   ]
  },
  {
   "cell_type": "code",
   "execution_count": 21,
   "metadata": {},
   "outputs": [
    {
     "data": {
      "text/plain": [
       "[<matplotlib.lines.Line2D at 0x7f193fef2b70>]"
      ]
     },
     "execution_count": 21,
     "metadata": {},
     "output_type": "execute_result"
    },
    {
     "data": {
      "image/png": "[encoded data removed]",
      "text/plain": [
       "<Figure size 432x288 with 1 Axes>"
      ]
     },
     "metadata": {
      "needs_background": "light"
     },
     "output_type": "display_data"
    }
   ],
   "source": [
    "import matplotlib.pyplot as plt\n",
    "\n",
    "for z_id in range(output['x'][0].shape[0]):\n",
    "    plt.plot(output['x'][0][z_id, :, 0], output['x'][0][z_id, :, 1])\n",
    "    \n",
    "plt.plot(output['gt'][0][:, 0], output['gt'][0][:, 1], color='k')\n",
    "# print(output['gt'])"
   ]
  },
  {
   "cell_type": "code",
   "execution_count": null,
   "metadata": {},
   "outputs": [],
   "source": []
  },
  {
   "cell_type": "code",
   "execution_count": null,
   "metadata": {},
   "outputs": [],
   "source": []
  },
  {
   "cell_type": "code",
   "execution_count": null,
   "metadata": {},
   "outputs": [],
   "source": []
  },
  {
   "cell_type": "code",
   "execution_count": null,
   "metadata": {},
   "outputs": [],
   "source": []
  },
  {
   "cell_type": "code",
   "execution_count": 14,
   "metadata": {},
   "outputs": [],
   "source": [
    "with open('./filtered_alpha_p_sparsemax_nominf.pkl', 'rb') as f:\n",
    "    filtered_alpha_sm = pickle.load(f, encoding='latin1')"
   ]
  },
  {
   "cell_type": "code",
   "execution_count": 15,
   "metadata": {},
   "outputs": [
    {
     "data": {
      "text/plain": [
       "(203, 2, 5)"
      ]
     },
     "execution_count": 15,
     "metadata": {},
     "output_type": "execute_result"
    }
   ],
   "source": [
    "filtered_alpha_sm.shape"
   ]
  },
  {
   "cell_type": "code",
   "execution_count": 16,
   "metadata": {},
   "outputs": [],
   "source": [
    "predictions_sm = eval_stg.predict(scene, timesteps, 12, num_samples=2000, min_future_timesteps=0)"
   ]
  },
  {
   "cell_type": "code",
   "execution_count": 17,
   "metadata": {},
   "outputs": [],
   "source": [
    "import evaluation\n",
    "(eval_mse_batch_errors_sm,\n",
    " eval_fde_batch_errors_sm,\n",
    " eval_kde_nll_sm,\n",
    " eval_obs_batch_viols_sm) = evaluation.compute_batch_statistics(predictions_sm,\n",
    "                     0.4,\n",
    "                     max_hl=8,\n",
    "                     ph=12)"
   ]
  },
  {
   "cell_type": "code",
   "execution_count": 18,
   "metadata": {},
   "outputs": [
    {
     "name": "stdout",
     "output_type": "stream",
     "text": [
      "Sparsemax\n",
      "KDE: 6.180768115218773 +- 0.5165102220336549\n",
      "MSE: 0.5434364639052025 +- 0.0005553032316710001\n",
      "FDE: 1.0925287333207392 +- 0.00136853621572599\n"
     ]
    }
   ],
   "source": [
    "print('Sparsemax')\n",
    "print(f\"KDE: {eval_kde_nll_sm.mean()} +- {eval_kde_nll_sm.std() / np.sqrt(eval_kde_nll_sm.shape[0])}\")\n",
    "print(f\"MSE: {eval_mse_batch_errors_sm.mean()} +- {eval_mse_batch_errors_sm.std() / np.sqrt(eval_mse_batch_errors_sm.shape[0])}\")\n",
    "print(f\"FDE: {eval_fde_batch_errors_sm.mean()} +- {eval_fde_batch_errors_sm.std() / np.sqrt(eval_fde_batch_errors_sm.shape[0])}\")"
   ]
  },
  {
   "cell_type": "code",
   "execution_count": null,
   "metadata": {},
   "outputs": [],
   "source": []
  },
  {
   "cell_type": "code",
   "execution_count": null,
   "metadata": {},
   "outputs": [],
   "source": []
  },
  {
   "cell_type": "code",
   "execution_count": 19,
   "metadata": {},
   "outputs": [],
   "source": [
    "with open('./filtered_alpha_p_nominf.pkl', 'rb') as f:\n",
    "    filtered_alpha = pickle.load(f, encoding='latin1')"
   ]
  },
  {
   "cell_type": "code",
   "execution_count": 20,
   "metadata": {},
   "outputs": [
    {
     "data": {
      "text/plain": [
       "(203, 2, 5)"
      ]
     },
     "execution_count": 20,
     "metadata": {},
     "output_type": "execute_result"
    }
   ],
   "source": [
    "filtered_alpha.shape"
   ]
  },
  {
   "cell_type": "code",
   "execution_count": 21,
   "metadata": {},
   "outputs": [],
   "source": [
    "predictions = eval_stg.predict(scene, timesteps, 12, num_samples=2000, min_future_timesteps=0)"
   ]
  },
  {
   "cell_type": "code",
   "execution_count": 22,
   "metadata": {},
   "outputs": [],
   "source": [
    "import evaluation\n",
    "(eval_mse_batch_errors,\n",
    " eval_fde_batch_errors,\n",
    " eval_kde_nll,\n",
    " eval_obs_batch_viols) = evaluation.compute_batch_statistics(predictions,\n",
    "                     0.4,\n",
    "                     max_hl=8,\n",
    "                     ph=12)"
   ]
  },
  {
   "cell_type": "code",
   "execution_count": null,
   "metadata": {},
   "outputs": [],
   "source": [
    "import visualization\n",
    "\n",
    "fig, ax = plt.subplots(3, 2,figsize=(10, 15))\n",
    "\n",
    "kde_fde_pd = {'dataset': ['ETH'] * eval_kde_nll.shape[0],\n",
    "                          'kde_nll': eval_kde_nll.tolist()}\n",
    "visualization.visualization_utils.plot_barplots(ax[0][0], kde_fde_pd, 'dataset', 'kde_nll')\n",
    "\n",
    "mse_fde_pd = {'dataset': ['ETH'] * eval_mse_batch_errors.shape[0],\n",
    "              'mse': eval_mse_batch_errors.tolist(),\n",
    "              'fde': eval_fde_batch_errors.tolist()}\n",
    "\n",
    "visualization.visualization_utils.plot_boxplots(ax[1, 0], mse_fde_pd, 'dataset', 'mse')\n",
    "visualization.visualization_utils.plot_boxplots(ax[2][0], mse_fde_pd, 'dataset', 'fde')"
   ]
  },
  {
   "cell_type": "code",
   "execution_count": 23,
   "metadata": {},
   "outputs": [
    {
     "name": "stdout",
     "output_type": "stream",
     "text": [
      "Sample Probs are used!\n"
     ]
    }
   ],
   "source": [
    "predictions_alpha_p = eval_stg.predict(scene, timesteps, 12, num_samples=2000, min_future_timesteps=0, sample_probs=torch.tensor(filtered_alpha).float())"
   ]
  },
  {
   "cell_type": "code",
   "execution_count": 24,
   "metadata": {},
   "outputs": [],
   "source": [
    "import evaluation\n",
    "(eval_mse_batch_errors_dst,\n",
    " eval_fde_batch_errors_dst,\n",
    " eval_kde_nll_dst,\n",
    " eval_obs_batch_viols_dst) = evaluation.compute_batch_statistics(predictions_alpha_p,\n",
    "                     0.4,\n",
    "                     max_hl=8,\n",
    "                     ph=12)"
   ]
  },
  {
   "cell_type": "code",
   "execution_count": 30,
   "metadata": {},
   "outputs": [
    {
     "ename": "NameError",
     "evalue": "name 'eval_kde_nll1' is not defined",
     "output_type": "error",
     "traceback": [
      "\u001b[0;31m---------------------------------------------------------------------------\u001b[0m",
      "\u001b[0;31mNameError\u001b[0m                                 Traceback (most recent call last)",
      "\u001b[0;32m<ipython-input-30-8afd30e058eb>\u001b[0m in \u001b[0;36m<module>\u001b[0;34m\u001b[0m\n\u001b[1;32m      1\u001b[0m \u001b[0mfig\u001b[0m\u001b[0;34m,\u001b[0m \u001b[0max\u001b[0m \u001b[0;34m=\u001b[0m \u001b[0mplt\u001b[0m\u001b[0;34m.\u001b[0m\u001b[0msubplots\u001b[0m\u001b[0;34m(\u001b[0m\u001b[0;36m3\u001b[0m\u001b[0;34m,\u001b[0m \u001b[0;36m2\u001b[0m\u001b[0;34m,\u001b[0m\u001b[0mfigsize\u001b[0m\u001b[0;34m=\u001b[0m\u001b[0;34m(\u001b[0m\u001b[0;36m10\u001b[0m\u001b[0;34m,\u001b[0m \u001b[0;36m15\u001b[0m\u001b[0;34m)\u001b[0m\u001b[0;34m)\u001b[0m\u001b[0;34m\u001b[0m\u001b[0;34m\u001b[0m\u001b[0m\n\u001b[0;32m----> 2\u001b[0;31m kde_fde_pd1 = {'dataset': ['ETH'] * eval_kde_nll1.shape[0],\n\u001b[0m\u001b[1;32m      3\u001b[0m                           'kde_nll': eval_kde_nll1.tolist()}\n\u001b[1;32m      4\u001b[0m \u001b[0;34m\u001b[0m\u001b[0m\n\u001b[1;32m      5\u001b[0m \u001b[0mvisualization\u001b[0m\u001b[0;34m.\u001b[0m\u001b[0mvisualization_utils\u001b[0m\u001b[0;34m.\u001b[0m\u001b[0mplot_barplots\u001b[0m\u001b[0;34m(\u001b[0m\u001b[0max\u001b[0m\u001b[0;34m[\u001b[0m\u001b[0;36m0\u001b[0m\u001b[0;34m,\u001b[0m \u001b[0;36m1\u001b[0m\u001b[0;34m]\u001b[0m\u001b[0;34m,\u001b[0m \u001b[0mkde_fde_pd1\u001b[0m\u001b[0;34m,\u001b[0m \u001b[0;34m'dataset'\u001b[0m\u001b[0;34m,\u001b[0m \u001b[0;34m'kde_nll'\u001b[0m\u001b[0;34m)\u001b[0m\u001b[0;34m\u001b[0m\u001b[0;34m\u001b[0m\u001b[0m\n",
      "\u001b[0;31mNameError\u001b[0m: name 'eval_kde_nll1' is not defined"
     ]
    },
    {
     "data": {
      "image/png": "[encoded data removed]",
      "text/plain": [
       "<Figure size 720x1080 with 6 Axes>"
      ]
     },
     "metadata": {
      "needs_background": "light"
     },
     "output_type": "display_data"
    }
   ],
   "source": [
    "fig, ax = plt.subplots(3, 2,figsize=(10, 15))\n",
    "kde_fde_pd1 = {'dataset': ['ETH'] * eval_kde_nll1.shape[0],\n",
    "                          'kde_nll': eval_kde_nll1.tolist()}\n",
    "\n",
    "visualization.visualization_utils.plot_barplots(ax[0, 1], kde_fde_pd1, 'dataset', 'kde_nll')\n",
    "\n",
    "\n",
    "mse_fde_pd1 = {'dataset': ['ETH'] * eval_mse_batch_errors1.shape[0],\n",
    "              'mse': eval_mse_batch_errors1.tolist(),\n",
    "              'fde': eval_fde_batch_errors1.tolist()}\n",
    "\n",
    "visualization.visualization_utils.plot_boxplots(ax[1, 1], mse_fde_pd1, 'dataset', 'mse')\n",
    "\n",
    "visualization.visualization_utils.plot_boxplots(ax[2, 1], mse_fde_pd1, 'dataset', 'fde')\n",
    "fig.savefig('plot.png')"
   ]
  },
  {
   "cell_type": "code",
   "execution_count": null,
   "metadata": {},
   "outputs": [],
   "source": [
    "eval_mse_batch_errors1.shape"
   ]
  },
  {
   "cell_type": "code",
   "execution_count": null,
   "metadata": {},
   "outputs": [],
   "source": [
    "eval_mse_batch_errors"
   ]
  },
  {
   "cell_type": "code",
   "execution_count": null,
   "metadata": {},
   "outputs": [],
   "source": [
    "203*3"
   ]
  },
  {
   "cell_type": "code",
   "execution_count": 25,
   "metadata": {},
   "outputs": [
    {
     "name": "stdout",
     "output_type": "stream",
     "text": [
      "Softmax\n",
      "KDE: 6.326980415686784 +- 0.5222250364846241\n",
      "MSE: 0.5439091316622618 +- 0.0005564925549808558\n",
      "FDE: 1.093054784375964 +- 0.001369823009628328\n"
     ]
    }
   ],
   "source": [
    "print('Softmax')\n",
    "print(f\"KDE: {eval_kde_nll.mean()} +- {eval_kde_nll.std() / np.sqrt(eval_kde_nll.shape[0])}\")\n",
    "print(f\"MSE: {eval_mse_batch_errors.mean()} +- {eval_mse_batch_errors.std() / np.sqrt(eval_mse_batch_errors.shape[0])}\")\n",
    "print(f\"FDE: {eval_fde_batch_errors.mean()} +- {eval_fde_batch_errors.std() / np.sqrt(eval_fde_batch_errors.shape[0])}\")"
   ]
  },
  {
   "cell_type": "code",
   "execution_count": 26,
   "metadata": {},
   "outputs": [
    {
     "name": "stdout",
     "output_type": "stream",
     "text": [
      "DST\n",
      "KDE: 6.97936250143831 +- 0.5470969095208453\n",
      "MSE: 0.54291791919502 +- 0.0005488968243377719\n",
      "FDE: 1.0913947566446054 +- 0.0013547291873768224\n"
     ]
    }
   ],
   "source": [
    "print('DST')\n",
    "print(f\"KDE: {eval_kde_nll_dst.mean()} +- {eval_kde_nll_dst.std() / np.sqrt(eval_kde_nll_dst.shape[0])}\")\n",
    "print(f\"MSE: {eval_mse_batch_errors_dst.mean()} +- {eval_mse_batch_errors_dst.std() / np.sqrt(eval_mse_batch_errors_dst.shape[0])}\")\n",
    "print(f\"FDE: {eval_fde_batch_errors_dst.mean()} +- {eval_fde_batch_errors_dst.std() / np.sqrt(eval_fde_batch_errors_dst.shape[0])}\")"
   ]
  },
  {
   "cell_type": "markdown",
   "metadata": {},
   "source": [
    "# Best of 5"
   ]
  },
  {
   "cell_type": "code",
   "execution_count": 15,
   "metadata": {
    "scrolled": false
   },
   "outputs": [
    {
     "name": "stdout",
     "output_type": "stream",
     "text": [
      "True\n",
      "Most Likely 5\n",
      "(2500, 203, 12, 2)\n"
     ]
    }
   ],
   "source": [
    "predictions_best_5 = eval_stg.predict(scene, timesteps, 12, most_likely_z=True, num_samples=1, min_future_timesteps=0)"
   ]
  },
  {
   "cell_type": "code",
   "execution_count": 16,
   "metadata": {},
   "outputs": [],
   "source": [
    "import evaluation\n",
    "(eval_mse_batch_errors_bo5,\n",
    " eval_fde_batch_errors_bo5,\n",
    " eval_kde_nll_bo5,\n",
    " eval_obs_batch_viols_bo5) = evaluation.compute_batch_statistics(predictions_best_5,\n",
    "                     0.4,\n",
    "                     max_hl=8,\n",
    "                     ph=12,\n",
    "                                                                best_of=True)"
   ]
  },
  {
   "cell_type": "code",
   "execution_count": 17,
   "metadata": {},
   "outputs": [
    {
     "name": "stdout",
     "output_type": "stream",
     "text": [
      "Best of 5 Mean GMM Softmax\n",
      "KDE: 15.689808904588585 +- 0.47378699294368165\n",
      "MSE: 0.42439600979345143 +- 0.02279648744796937\n",
      "FDE: 0.8747269030938155 +- 0.05691327116667076\n"
     ]
    }
   ],
   "source": [
    "print('Best of 5 Mean GMM Softmax')\n",
    "print(f\"KDE: {eval_kde_nll_bo5.mean()} +- {eval_kde_nll_bo5.std() / np.sqrt(eval_kde_nll_bo5.shape[0])}\")\n",
    "print(f\"MSE: {eval_mse_batch_errors_bo5.mean()} +- {eval_mse_batch_errors_bo5.std() / np.sqrt(eval_mse_batch_errors_bo5.shape[0])}\")\n",
    "print(f\"FDE: {eval_fde_batch_errors_bo5.mean()} +- {eval_fde_batch_errors_bo5.std() / np.sqrt(eval_fde_batch_errors_bo5.shape[0])}\")"
   ]
  },
  {
   "cell_type": "code",
   "execution_count": 28,
   "metadata": {},
   "outputs": [
    {
     "data": {
      "text/plain": [
       "(181,)"
      ]
     },
     "execution_count": 28,
     "metadata": {},
     "output_type": "execute_result"
    }
   ],
   "source": [
    "eval_kde_nll_bo5.shape"
   ]
  },
  {
   "cell_type": "code",
   "execution_count": 18,
   "metadata": {},
   "outputs": [],
   "source": [
    "with open('./filtered_alpha_p_sparsemax.pkl', 'rb') as f:\n",
    "    filtered_alpha_sm = pickle.load(f, encoding='latin1')"
   ]
  },
  {
   "cell_type": "code",
   "execution_count": 19,
   "metadata": {},
   "outputs": [
    {
     "name": "stdout",
     "output_type": "stream",
     "text": [
      "True\n",
      "Sample Probs are used!\n",
      "Most Likely 5\n",
      "(2500, 203, 12, 2)\n"
     ]
    }
   ],
   "source": [
    "predictions_best_5_sm = eval_stg.predict(scene, timesteps, 12, most_likely_z=True, num_samples=1, min_future_timesteps=0, sample_probs=torch.tensor(filtered_alpha_sm).float())"
   ]
  },
  {
   "cell_type": "code",
   "execution_count": 20,
   "metadata": {},
   "outputs": [],
   "source": [
    "import evaluation\n",
    "(eval_mse_batch_errors_bo5_sm,\n",
    " eval_fde_batch_errors_bo5_sm,\n",
    " eval_kde_nll_bo5_sm,\n",
    " eval_obs_batch_viols_bo5_sm) = evaluation.compute_batch_statistics(predictions_best_5_sm,\n",
    "                     0.4,\n",
    "                     max_hl=8,\n",
    "                     ph=12,\n",
    "                                                                best_of=True)"
   ]
  },
  {
   "cell_type": "code",
   "execution_count": 21,
   "metadata": {},
   "outputs": [
    {
     "name": "stdout",
     "output_type": "stream",
     "text": [
      "Best of 5 Mean GMM Sparsemax\n",
      "KDE: 16.246392445028707 +- 0.4097121283261621\n",
      "MSE: 0.427664469852845 +- 0.022635578948948486\n",
      "FDE: 0.8628703576382771 +- 0.054581477569129816\n"
     ]
    }
   ],
   "source": [
    "print('Best of 5 Mean GMM Sparsemax')\n",
    "print(f\"KDE: {eval_kde_nll_bo5_sm.mean()} +- {eval_kde_nll_bo5_sm.std() / np.sqrt(eval_kde_nll_bo5_sm.shape[0])}\")\n",
    "print(f\"MSE: {eval_mse_batch_errors_bo5_sm.mean()} +- {eval_mse_batch_errors_bo5_sm.std() / np.sqrt(eval_mse_batch_errors_bo5_sm.shape[0])}\")\n",
    "print(f\"FDE: {eval_fde_batch_errors_bo5_sm.mean()} +- {eval_fde_batch_errors_bo5_sm.std() / np.sqrt(eval_fde_batch_errors_bo5_sm.shape[0])}\")"
   ]
  },
  {
   "cell_type": "code",
   "execution_count": null,
   "metadata": {},
   "outputs": [],
   "source": []
  },
  {
   "cell_type": "code",
   "execution_count": 23,
   "metadata": {},
   "outputs": [],
   "source": [
    "with open('./filtered_alpha_p.pkl', 'rb') as f:\n",
    "    filtered_alpha_p = pickle.load(f, encoding='latin1')"
   ]
  },
  {
   "cell_type": "code",
   "execution_count": 24,
   "metadata": {},
   "outputs": [
    {
     "name": "stdout",
     "output_type": "stream",
     "text": [
      "True\n",
      "Sample Probs are used!\n",
      "Most Likely 5\n",
      "(2500, 203, 12, 2)\n"
     ]
    }
   ],
   "source": [
    "predictions_best_5_dst = eval_stg.predict(scene, timesteps, 12, most_likely_z=True, num_samples=1, min_future_timesteps=0, sample_probs=torch.tensor(filtered_alpha_p).float())"
   ]
  },
  {
   "cell_type": "code",
   "execution_count": 25,
   "metadata": {},
   "outputs": [],
   "source": [
    "import evaluation\n",
    "(eval_mse_batch_errors_bo5_dst,\n",
    " eval_fde_batch_errors_bo5_dst,\n",
    " eval_kde_nll_bo5_dst,\n",
    " eval_obs_batch_viols_bo5_dst) = evaluation.compute_batch_statistics(predictions_best_5_dst,\n",
    "                     0.4,\n",
    "                     max_hl=8,\n",
    "                     ph=12,\n",
    "                                                                best_of=True)"
   ]
  },
  {
   "cell_type": "code",
   "execution_count": 26,
   "metadata": {},
   "outputs": [
    {
     "name": "stdout",
     "output_type": "stream",
     "text": [
      "Best of 5 Mean GMM DST\n",
      "KDE: 16.24127019381913 +- 0.44455136099065856\n",
      "MSE: 0.4136614873995376 +- 0.02201399092610776\n",
      "FDE: 0.8485441412992353 +- 0.05472369853865348\n"
     ]
    }
   ],
   "source": [
    "print('Best of 5 Mean GMM DST')\n",
    "print(f\"KDE: {eval_kde_nll_bo5_dst.mean()} +- {eval_kde_nll_bo5_dst.std() / np.sqrt(eval_kde_nll_bo5_dst.shape[0])}\")\n",
    "print(f\"MSE: {eval_mse_batch_errors_bo5_dst.mean()} +- {eval_mse_batch_errors_bo5_dst.std() / np.sqrt(eval_mse_batch_errors_bo5_dst.shape[0])}\")\n",
    "print(f\"FDE: {eval_fde_batch_errors_bo5_dst.mean()} +- {eval_fde_batch_errors_bo5_dst.std() / np.sqrt(eval_fde_batch_errors_bo5_dst.shape[0])}\")"
   ]
  },
  {
   "cell_type": "code",
   "execution_count": null,
   "metadata": {},
   "outputs": [],
   "source": []
  },
  {
   "cell_type": "markdown",
   "metadata": {},
   "source": [
    "# All z post selection"
   ]
  },
  {
   "cell_type": "code",
   "execution_count": 75,
   "metadata": {},
   "outputs": [],
   "source": [
    "from scipy.integrate import cumtrapz\n",
    "def integrate_trajectory(v, x0, dt):\n",
    "    xd_ = cumtrapz(v[..., 0], axis=1, dx=dt) + x0[0]\n",
    "    yd_ = cumtrapz(v[..., 1], axis=1, dx=dt) + x0[1]\n",
    "    integrated = np.stack([xd_, yd_], axis=2)\n",
    "    return integrated\n",
    "def prediction_output_to_trajectories(prediction_output_dict, dt, max_h, ph, map=None, prune_ph_to_future=False, z_index=None):\n",
    "    prediction_timesteps = prediction_output_dict.keys()\n",
    "\n",
    "    output_dict = dict()\n",
    "    histories_dict = dict()\n",
    "    futures_dict = dict()\n",
    "    bi = 0\n",
    "    for t in prediction_timesteps:\n",
    "        histories_dict[t] = dict()\n",
    "        output_dict[t] = dict()\n",
    "        futures_dict[t] = dict()\n",
    "        prediction_nodes = prediction_output_dict[t].keys()\n",
    "        for node in prediction_nodes:\n",
    "            predictions_output = prediction_output_dict[t][node]\n",
    "            if node.is_robot:\n",
    "                continue\n",
    "            history = node.get(np.array([t - max_h, t]), ['position'], ['x', 'y'])  # History includes current pos\n",
    "            history = history[~np.isnan(history.sum(axis=1))]\n",
    "\n",
    "            future = node.get(np.array([t + 1, t + ph]), ['position'], ['x', 'y'])\n",
    "            future = future[~np.isnan(future.sum(axis=1))]\n",
    "\n",
    "            current_pos = node.get(t, ['position'], ['x', 'y'])[0]  # List with single item\n",
    "            current_vel = node.get(t, ['velocity'], ['x', 'y'])[0]  # List with single item\n",
    "\n",
    "            predictions_output = predictions_output.reshape(25, 2000, 12, 2).mean(axis=1)\n",
    "            if z_index is not None:\n",
    "                predictions_output = predictions_output[z_index[bi]]\n",
    "            bi += 1\n",
    "\n",
    "            if prune_ph_to_future:\n",
    "                predictions_output = predictions_output[:, :future.shape[0]]\n",
    "                if predictions_output.shape[1] == 0:\n",
    "                    continue\n",
    "\n",
    "            vel_broad = np.expand_dims(np.broadcast_to(current_vel, (predictions_output.shape[0], current_vel.shape[-1])), axis=-2)\n",
    "            vel = np.concatenate((vel_broad, predictions_output), axis=1)\n",
    "\n",
    "            if map is None:\n",
    "                histories_dict[t][node] = history\n",
    "                output_dict[t][node] = integrate_trajectory(vel, current_pos, dt=dt)\n",
    "                futures_dict[t][node] = future\n",
    "            else:\n",
    "                histories_dict[t][node] = map.to_map_points(history)\n",
    "                output_dict[t][node] = map.to_map_points(integrate_trajectory(vel, current_pos, dt=dt))\n",
    "                futures_dict[t][node] = map.to_map_points(future)\n",
    "\n",
    "    return output_dict, histories_dict, futures_dict"
   ]
  },
  {
   "cell_type": "code",
   "execution_count": 16,
   "metadata": {},
   "outputs": [],
   "source": [
    "from evaluation.evaluation import compute_mse, compute_fde, compute_kde_nll, compute_obs_violations\n",
    "def compute_batch_statistics(prediction_output_dict, dt, max_hl, ph, map=None, best_of=False, z_index=None):\n",
    "\n",
    "    (prediction_dict,\n",
    "     _,\n",
    "     futures_dict) = prediction_output_to_trajectories(prediction_output_dict, dt, max_hl, ph, prune_ph_to_future=True, z_index=z_index)\n",
    "\n",
    "    batch_error_dict = {'mse': list(), 'fde': list(), 'kde': list(), 'obs_viols': list()}\n",
    "\n",
    "    for t in prediction_dict.keys():\n",
    "        for node in prediction_dict[t].keys():\n",
    "            mse_errors = compute_mse(prediction_dict[t][node], futures_dict[t][node])\n",
    "            fde_errors = compute_fde(prediction_dict[t][node], futures_dict[t][node])\n",
    "            kde_ll = compute_kde_nll(prediction_dict[t][node], futures_dict[t][node])\n",
    "            if map is not None:\n",
    "                obs_viols = compute_obs_violations(prediction_dict[t][node], map)\n",
    "            else:\n",
    "                obs_viols = 0\n",
    "            if best_of:\n",
    "                mse_errors = np.min(mse_errors)\n",
    "                fde_errors = np.min(fde_errors)\n",
    "                kde_ll = np.min(kde_ll)\n",
    "            batch_error_dict['mse'].append(mse_errors)\n",
    "            batch_error_dict['fde'].append(fde_errors)\n",
    "            batch_error_dict['kde'].append(kde_ll)\n",
    "            batch_error_dict['obs_viols'].append(obs_viols)\n",
    "\n",
    "    return (np.hstack(batch_error_dict['mse']),\n",
    "            np.hstack(batch_error_dict['fde']),\n",
    "            np.hstack(batch_error_dict['kde']),\n",
    "            np.hstack(batch_error_dict['obs_viols']))"
   ]
  },
  {
   "cell_type": "code",
   "execution_count": 12,
   "metadata": {},
   "outputs": [
    {
     "name": "stdout",
     "output_type": "stream",
     "text": [
      "All z is used!\n",
      "0\n",
      "0\n",
      "1\n",
      "1\n",
      "2\n",
      "2\n",
      "3\n",
      "3\n",
      "4\n",
      "4\n",
      "5\n",
      "5\n",
      "6\n",
      "6\n",
      "7\n",
      "7\n",
      "8\n",
      "8\n",
      "9\n",
      "9\n",
      "10\n",
      "10\n",
      "11\n",
      "11\n",
      "(50000, 203, 12, 2)\n"
     ]
    }
   ],
   "source": [
    "with torch.no_grad():\n",
    "    predictions_all_z = eval_stg.predict(scene, timesteps, 12, num_samples=0, min_future_timesteps=0)"
   ]
  },
  {
   "cell_type": "code",
   "execution_count": 26,
   "metadata": {
    "scrolled": true
   },
   "outputs": [
    {
     "data": {
      "text/plain": [
       "(203, 2, 5)"
      ]
     },
     "execution_count": 26,
     "metadata": {},
     "output_type": "execute_result"
    }
   ],
   "source": [
    "cvae = list(eval_stg.node_models_dict.values())[0]\n",
    "alpha_p_softmax = cvae.latent.p_dist.probs.cpu().detach().numpy()\n",
    "alpha_p_softmax.shape"
   ]
  },
  {
   "cell_type": "code",
   "execution_count": 24,
   "metadata": {},
   "outputs": [],
   "source": [
    "all_one_hot = cvae.latent.all_one_hot_combinations(2, 5).reshape(1, -1, 2, 5)\n",
    "joint_prob = (np.expand_dims(alpha_p_softmax, axis=1) * all_one_hot).sum(axis=-1).prod(axis=-1)\n",
    "argmax_idxs = np.argsort(joint_prob, axis=1)[..., ::-1][..., :5]"
   ]
  },
  {
   "cell_type": "code",
   "execution_count": 76,
   "metadata": {},
   "outputs": [],
   "source": [
    "(eval_mse_batch_errors_bo5,\n",
    " eval_fde_batch_errors_bo5,\n",
    " eval_kde_nll_bo5,\n",
    " eval_obs_batch_viols_bo5) = compute_batch_statistics(predictions_all_z,\n",
    "                     0.4,\n",
    "                     max_hl=8,\n",
    "                     ph=12,\n",
    "                                                                best_of=True,\n",
    "                                                                z_index=argmax_idxs)"
   ]
  },
  {
   "cell_type": "code",
   "execution_count": 77,
   "metadata": {},
   "outputs": [
    {
     "name": "stdout",
     "output_type": "stream",
     "text": [
      "Best of 5 Mean GMM Softmax\n",
      "KDE: 16.69244378009929 +- 0.40906177873518296\n",
      "MSE: 0.37551021795521533 +- 0.020517681545160125\n",
      "FDE: 0.7568273285076677 +- 0.048938780837849874\n"
     ]
    }
   ],
   "source": [
    "print('Best of 5 Mean GMM Softmax')\n",
    "print(f\"KDE: {eval_kde_nll_bo5.mean()} +- {eval_kde_nll_bo5.std() / np.sqrt(eval_kde_nll_bo5.shape[0])}\")\n",
    "print(f\"MSE: {eval_mse_batch_errors_bo5.mean()} +- {eval_mse_batch_errors_bo5.std() / np.sqrt(eval_mse_batch_errors_bo5.shape[0])}\")\n",
    "print(f\"FDE: {eval_fde_batch_errors_bo5.mean()} +- {eval_fde_batch_errors_bo5.std() / np.sqrt(eval_fde_batch_errors_bo5.shape[0])}\")"
   ]
  },
  {
   "cell_type": "code",
   "execution_count": null,
   "metadata": {},
   "outputs": [],
   "source": []
  },
  {
   "cell_type": "code",
   "execution_count": 45,
   "metadata": {},
   "outputs": [],
   "source": [
    "with open('./filtered_alpha_p_sparsemax.pkl', 'rb') as f:\n",
    "    filtered_alpha_sm = pickle.load(f, encoding='latin1')"
   ]
  },
  {
   "cell_type": "code",
   "execution_count": 46,
   "metadata": {},
   "outputs": [],
   "source": [
    "all_one_hot = cvae.latent.all_one_hot_combinations(2, 5).reshape(1, -1, 2, 5)\n",
    "joint_prob = (np.expand_dims(filtered_alpha_sm, axis=1) * all_one_hot).sum(axis=-1).prod(axis=-1)\n",
    "argmax_idxs_sm = np.argsort(joint_prob, axis=1)[..., ::-1][..., :5]"
   ]
  },
  {
   "cell_type": "code",
   "execution_count": 78,
   "metadata": {},
   "outputs": [],
   "source": [
    "(eval_mse_batch_errors_bo5_sm,\n",
    " eval_fde_batch_errors_bo5_sm,\n",
    " eval_kde_nll_bo5_sm,\n",
    " eval_obs_batch_viols_bo5_sm) = compute_batch_statistics(predictions_all_z,\n",
    "                     0.4,\n",
    "                     max_hl=8,\n",
    "                     ph=12,\n",
    "                                                                best_of=True, z_index=argmax_idxs_sm)"
   ]
  },
  {
   "cell_type": "code",
   "execution_count": 79,
   "metadata": {},
   "outputs": [
    {
     "name": "stdout",
     "output_type": "stream",
     "text": [
      "Best of 5 Mean GMM Sparsemax\n",
      "KDE: 14.770436071681099 +- 0.5036767759537559\n",
      "MSE: 0.3970539493802833 +- 0.021159917138804836\n",
      "FDE: 0.8019804907502585 +- 0.05124428002597904\n"
     ]
    }
   ],
   "source": [
    "print('Best of 5 Mean GMM Sparsemax')\n",
    "print(f\"KDE: {eval_kde_nll_bo5_sm.mean()} +- {eval_kde_nll_bo5_sm.std() / np.sqrt(eval_kde_nll_bo5_sm.shape[0])}\")\n",
    "print(f\"MSE: {eval_mse_batch_errors_bo5_sm.mean()} +- {eval_mse_batch_errors_bo5_sm.std() / np.sqrt(eval_mse_batch_errors_bo5_sm.shape[0])}\")\n",
    "print(f\"FDE: {eval_fde_batch_errors_bo5_sm.mean()} +- {eval_fde_batch_errors_bo5_sm.std() / np.sqrt(eval_fde_batch_errors_bo5_sm.shape[0])}\")"
   ]
  },
  {
   "cell_type": "code",
   "execution_count": null,
   "metadata": {},
   "outputs": [],
   "source": []
  },
  {
   "cell_type": "code",
   "execution_count": 54,
   "metadata": {},
   "outputs": [],
   "source": [
    "with open('./filtered_alpha_p.pkl', 'rb') as f:\n",
    "    filtered_alpha_p = pickle.load(f, encoding='latin1')"
   ]
  },
  {
   "cell_type": "code",
   "execution_count": 55,
   "metadata": {},
   "outputs": [],
   "source": [
    "all_one_hot = cvae.latent.all_one_hot_combinations(2, 5).reshape(1, -1, 2, 5)\n",
    "joint_prob = (np.expand_dims(filtered_alpha_p, axis=1) * all_one_hot).sum(axis=-1).prod(axis=-1)\n",
    "argmax_idxs_dst = np.argsort(joint_prob, axis=1)[..., ::-1][..., :5]"
   ]
  },
  {
   "cell_type": "code",
   "execution_count": 80,
   "metadata": {},
   "outputs": [],
   "source": [
    "(eval_mse_batch_errors_bo5_dst,\n",
    " eval_fde_batch_errors_bo5_dst,\n",
    " eval_kde_nll_bo5_dst,\n",
    " eval_obs_batch_viols_bo5_dst) = compute_batch_statistics(predictions_all_z,\n",
    "                     0.4,\n",
    "                     max_hl=8,\n",
    "                     ph=12,\n",
    "                                                                best_of=True,z_index=argmax_idxs_dst)"
   ]
  },
  {
   "cell_type": "code",
   "execution_count": 81,
   "metadata": {},
   "outputs": [
    {
     "name": "stdout",
     "output_type": "stream",
     "text": [
      "Best of 5 Mean GMM DST\n",
      "KDE: 16.164927721641984 +- 0.44140661018015553\n",
      "MSE: 0.37610120968952954 +- 0.021348656415892\n",
      "FDE: 0.7533120586257447 +- 0.05036671190883169\n"
     ]
    }
   ],
   "source": [
    "print('Best of 5 Mean GMM DST')\n",
    "print(f\"KDE: {eval_kde_nll_bo5_dst.mean()} +- {eval_kde_nll_bo5_dst.std() / np.sqrt(eval_kde_nll_bo5_dst.shape[0])}\")\n",
    "print(f\"MSE: {eval_mse_batch_errors_bo5_dst.mean()} +- {eval_mse_batch_errors_bo5_dst.std() / np.sqrt(eval_mse_batch_errors_bo5_dst.shape[0])}\")\n",
    "print(f\"FDE: {eval_fde_batch_errors_bo5_dst.mean()} +- {eval_fde_batch_errors_bo5_dst.std() / np.sqrt(eval_fde_batch_errors_bo5_dst.shape[0])}\")"
   ]
  },
  {
   "cell_type": "code",
   "execution_count": null,
   "metadata": {},
   "outputs": [],
   "source": []
  }
 ],
 "metadata": {
  "kernelspec": {
   "display_name": "Python 3.6 (DynSTG)",
   "language": "python",
   "name": "dynstg"
  },
  "language_info": {
   "codemirror_mode": {
    "name": "ipython",
    "version": 3
   },
   "file_extension": ".py",
   "mimetype": "text/x-python",
   "name": "python",
   "nbconvert_exporter": "python",
   "pygments_lexer": "ipython3",
   "version": "3.6.6"
  }
 },
 "nbformat": 4,
 "nbformat_minor": 2
}
